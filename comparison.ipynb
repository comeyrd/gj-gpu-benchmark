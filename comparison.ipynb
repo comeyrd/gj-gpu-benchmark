{
 "cells": [
  {
   "cell_type": "code",
   "execution_count": 1,
   "id": "3bae22b4",
   "metadata": {},
   "outputs": [],
   "source": [
    "import numpy as np"
   ]
  },
  {
   "cell_type": "code",
   "execution_count": 2,
   "id": "c0a91202",
   "metadata": {},
   "outputs": [
    {
     "name": "stdout",
     "output_type": "stream",
     "text": [
      "Mean error of inversion: 0.6635547312699984\n"
     ]
    }
   ],
   "source": [
    "# Read the data from the CSV file\n",
    "filename = './build/matrix.txt'  # Replace with your actual file path\n",
    "\n",
    "# Load the data\n",
    "data = np.loadtxt(filename, delimiter=',')\n",
    "\n",
    "# Ensure it's a square matrix\n",
    "rows, cols = data.shape\n",
    "if rows != cols:\n",
    "    raise ValueError(f\"Matrix must be square for inversion, got {rows}x{cols}\")\n",
    "\n",
    "# Compute inverse\n",
    "A = data\n",
    "A_inv = np.linalg.inv(A)\n",
    "\n",
    "# Compute mean error from identity\n",
    "identity = np.eye(A.shape[0])\n",
    "error_matrix = A @ A_inv - identity\n",
    "mean_error = np.mean(np.abs(error_matrix))\n",
    "\n",
    "print(f\"Mean error of inversion: {mean_error}\")\n"
   ]
  },
  {
   "cell_type": "code",
   "execution_count": 3,
   "id": "28966193",
   "metadata": {},
   "outputs": [
    {
     "data": {
      "text/plain": [
       "array([[-1.24800e+03, -3.04000e+03, -1.28000e+03, ...,  2.56000e+03,\n",
       "         1.28000e+03, -2.81600e+03],\n",
       "       [-3.90000e+01,  9.55000e+02,  3.96000e+03, ..., -8.70000e+02,\n",
       "        -3.81000e+03,  1.41200e+03],\n",
       "       [-7.02000e+02, -1.58400e+03, -3.32000e+02, ...,  1.32600e+03,\n",
       "         2.36000e+02, -1.38800e+03],\n",
       "       ...,\n",
       "       [-1.91100e+03, -2.95400e+03,  2.49600e+03, ..., -1.08070e+04,\n",
       "         1.39900e+04,  1.41595e+05],\n",
       "       [-2.73000e+02, -2.36600e+03, -4.23000e+03, ..., -5.51250e+04,\n",
       "         3.32700e+04,  1.31526e+05],\n",
       "       [ 1.56000e+02,  1.49000e+02, -1.27200e+03, ..., -1.71701e+05,\n",
       "         2.92100e+04, -1.30196e+05]], shape=(500, 500))"
      ]
     },
     "execution_count": 3,
     "metadata": {},
     "output_type": "execute_result"
    }
   ],
   "source": [
    "data"
   ]
  }
 ],
 "metadata": {
  "kernelspec": {
   "display_name": "venvgj",
   "language": "python",
   "name": "python3"
  },
  "language_info": {
   "codemirror_mode": {
    "name": "ipython",
    "version": 3
   },
   "file_extension": ".py",
   "mimetype": "text/x-python",
   "name": "python",
   "nbconvert_exporter": "python",
   "pygments_lexer": "ipython3",
   "version": "3.10.16"
  }
 },
 "nbformat": 4,
 "nbformat_minor": 5
}
